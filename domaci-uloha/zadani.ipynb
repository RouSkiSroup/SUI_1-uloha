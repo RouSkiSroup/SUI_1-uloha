{
 "cells": [
  {
   "cell_type": "markdown",
   "metadata": {},
   "source": [
    "Vítejte u domácí úlohy do SUI.\n",
    "V rámci úlohy Vás čeká několik cvičení, v nichž budete doplňovat poměrně malé fragmenty kódu, místo na ně je vyznačené jako `pass` nebo `None`.\n",
    "Pokud se v buňce s kódem již něco nachází, využijte/neničte to.\n",
    "V dvou případech se očekává textová odpověď, tu uvedete přímo do zadávající buňky.\n",
    "Buňky nerušte ani nepřidávejte.\n",
    "\n",
    "Maximálně využívejte `numpy` a `torch` pro hromadné operace na celých polích.\n",
    "S výjimkou generátoru minibatchí by se nikde neměl objevit cyklus jdoucí přes jednotlivé příklady.\n",
    "\n",
    "U všech cvičení je uveden počet bodů za funkční implementaci a orientační počet potřebných řádků.\n",
    "Berte ho prosím opravdu jako orientační, pozornost mu věnujte pouze, pokud ho významně překračujete.\n",
    "Mnoho zdaru!"
   ]
  },
  {
   "cell_type": "markdown",
   "metadata": {},
   "source": [
    "# Informace o vzniku řešení\n",
    "Vyplňte následující údaje **(3 údaje, 0 bodů)**\n",
    "\n",
    "* Jméno autora: Filip Jeřábek\n",
    "* Login autora: xjerab24\n",
    "* Datum vzniku: 21.10.2020"
   ]
  },
  {
   "cell_type": "code",
   "execution_count": 25,
   "metadata": {},
   "outputs": [],
   "source": [
    "import numpy as np\n",
    "import copy\n",
    "import matplotlib.pyplot as plt\n",
    "import scipy.stats"
   ]
  },
  {
   "cell_type": "markdown",
   "metadata": {},
   "source": [
    "# Přípravné práce\n",
    "Prvním úkolem v této domácí úloze je načíst data, s nimiž budete pracovat.\n",
    "Vybudujte jednoduchou třídu, která se umí zkonstruovat z cesty k negativním a pozitivním příkladům, a bude poskytovat:\n",
    "- pozitivní a negativní příklady (`dataset.pos`, `dataset.neg` o rozměrech [N, 7])\n",
    "- všechny příklady a odpovídající třídy (`dataset.xs` o rozměru [N, 7], `dataset.targets` o rozměru [N])\n",
    "\n",
    "K načítání dat doporučujeme využít `np.loadtxt()`.\n",
    "Netrapte se se zapouzdřování a gettery, berte třídu jako Plain Old Data.\n",
    "\n",
    "Načtěte trénovací (`{positives,negatives}.trn`), validační (`{positives,negatives}.val`) a testovací (`{positives,negatives}.tst`) dataset, pojmenujte je po řadě (`train_dataset`, `val_dataset`, `test_dataset`). \n",
    "\n",
    "**(6+3 řádků, 1 bod)** \n"
   ]
  },
  {
   "cell_type": "code",
   "execution_count": 26,
   "metadata": {},
   "outputs": [
    {
     "name": "stdout",
     "output_type": "stream",
     "text": [
      "positives (2280, 7)\n",
      "negatives (6841, 7)\n",
      "xs (9121, 7)\n",
      "targets (9121,)\n"
     ]
    }
   ],
   "source": [
    "class DataClass:\n",
    "  def __init__(self, positives, negatives):\n",
    "    self.pos = np.loadtxt(positives)\n",
    "    self.neg = np.loadtxt(negatives)\n",
    "    self.xs = np.vstack((self.pos, self.neg))\n",
    "    self.targets = np.hstack((np.ones(len(self.pos)), np.zeros(len(self.neg))))\n",
    "\n",
    "train_dataset = DataClass(\"./positives.trn\", \"./negatives.trn\")\n",
    "val_dataset = DataClass(\"./positives.val\", \"./negatives.val\")\n",
    "test_dataset = DataClass(\"./positives.tst\", \"./negatives.tst\")\n",
    "\n",
    "print('positives', train_dataset.pos.shape)\n",
    "print('negatives', train_dataset.neg.shape)\n",
    "print('xs', train_dataset.xs.shape)\n",
    "print('targets', train_dataset.targets.shape)"
   ]
  },
  {
   "cell_type": "markdown",
   "metadata": {},
   "source": [
    "V řadě následujících cvičení budete pracovat s jedním konkrétním příznakem. Naimplementujte pro začátek funkci, která vykreslí histogram rozložení pozitivních a negativních příkladů (`plt.hist()`). Nezapomeňte na legendu, ať je v grafu jasné, které jsou které. Funkci zavolejte dvakrát, vykreslete histogram příznaku `5` -- tzn. šestého ze sedmi -- pro trénovací a validační data **(5 řádků, 1 bod)**."
   ]
  },
  {
   "cell_type": "code",
   "execution_count": 27,
   "metadata": {},
   "outputs": [
    {
     "data": {
      "text/plain": "<Figure size 432x288 with 1 Axes>",
      "image/png": "[encoded data removed]"
     },
     "metadata": {
      "needs_background": "light"
     },
     "output_type": "display_data"
    },
    {
     "data": {
      "text/plain": "<Figure size 432x288 with 1 Axes>",
      "image/png": "[encoded data removed]"
     },
     "metadata": {
      "needs_background": "light"
     },
     "output_type": "display_data"
    }
   ],
   "source": [
    "FOI = 5  # Feature Of Interest\n",
    "\n",
    "def plot_data(poss, negs):\n",
    "    plt.hist(poss)\n",
    "    plt.hist(negs, alpha=0.5)\n",
    "    plt.legend([\"Pozitivní\", \"Negativní\"])\n",
    "    plt.show()\n",
    "\n",
    "plot_data(train_dataset.pos[:, FOI], train_dataset.neg[:, FOI])\n",
    "plot_data(val_dataset.pos[:, FOI], val_dataset.neg[:, FOI])"
   ]
  },
  {
   "cell_type": "markdown",
   "metadata": {},
   "source": [
    "### Evaluace klasifikátorů\n",
    "Než přistoupíte k tvorbě jednotlivých klasifikátorů, vytvořte funkci pro jejich vyhodnocování.\n",
    "Nechť se jmenuje `evaluate` a přijímá po řadě klasifikátor, pole dat (o rozměrech [N] nebo [N, F]) a pole tříd ([N]).\n",
    "Jejím výstupem bude _přesnost_, tzn. podíl správně klasifikovaných příkladů.\n",
    "\n",
    "Předpokládejte, že klasifikátor poskytuje metodu `.prob_class_1(data)`, která vrací pole posteriorních pravděpodobností třídy 1 (tj. p(y=1|x)) pro daná data.\n",
    "Evaluační funkce bude muset provést tvrdé prahování (na hodnotě 0.5) těchto pravděpodobností a srovnání získaných rozhodnutí s referenčními třídami.\n",
    "Využijte fakt, že `numpy`ovská pole lze mj. porovnávat mezi sebou i se skalárem.\n",
    "\n",
    "**(3 řádky, 1 bod)**"
   ]
  },
  {
   "cell_type": "code",
   "execution_count": 28,
   "metadata": {},
   "outputs": [
    {
     "name": "stdout",
     "output_type": "stream",
     "text": [
      "0.6666666666666666\n"
     ]
    }
   ],
   "source": [
    "def evaluate(classifier, inputs, targets):\n",
    "    guessed = np.round(classifier.prob_class_1(inputs))\n",
    "    match = guessed == targets\n",
    "    return np.average(match)\n",
    "\n",
    "\n",
    "class Dummy:\n",
    "    def prob_class_1(self, xs):\n",
    "        return np.asarray([0.2, 0.7, 0.7])\n",
    "\n",
    "print(evaluate(Dummy(), train_dataset.xs, np.asarray([0, 0, 1])))  # should be 0.66..."
   ]
  },
  {
   "cell_type": "markdown",
   "metadata": {},
   "source": [
    "### Baseline\n",
    "Vytvořte klasifikátor, který ignoruje vstupní hodnotu dat.\n",
    "Jenom v konstruktoru dostane třídu, kterou má dávat jako tip pro libovolný vstup.\n",
    "Nezapomeňte, že jeho metoda `.prob_class_1(data)` musí vracet pole správné velikosti, využijte `np.ones` nebo `np.full`.\n",
    "\n",
    "**(4 řádky, 1 bod)**"
   ]
  },
  {
   "cell_type": "code",
   "execution_count": 29,
   "metadata": {},
   "outputs": [
    {
     "name": "stdout",
     "output_type": "stream",
     "text": [
      "Baseline val acc: 0.75\n"
     ]
    }
   ],
   "source": [
    "class PriorClassifier:\n",
    "    def __init__(self, class_type):\n",
    "        self.guessed = class_type\n",
    "    def prob_class_1(self, xs):\n",
    "        return np.full(len(xs),self.guessed)\n",
    "\n",
    "baseline = PriorClassifier(0)\n",
    "val_acc = evaluate(baseline, val_dataset.xs[:, FOI], val_dataset.targets)\n",
    "print('Baseline val acc:', val_acc)"
   ]
  },
  {
   "cell_type": "markdown",
   "metadata": {},
   "source": [
    "# Generativní klasifikátory\n",
    "V této  části vytvoříte dva generativní klasifikátory, oba založené na Gaussovu rozložení pravděpodobnosti.\n",
    "\n",
    "Začněte implementací funce, která pro daná 1-D data vrátí Maximum Likelihood odhad střední hodnoty a směrodatné odchylky Gaussova rozložení, které data modeluje.\n",
    "Funkci využijte pro natrénovaní dvou modelů: pozitivních a negativních příkladů.\n",
    "Získané parametry -- tzn. střední hodnoty a směrodatné odchylky -- vypište.\n",
    "\n",
    "**(5 řádků, 0.5 bodu)**"
   ]
  },
  {
   "cell_type": "code",
   "execution_count": 30,
   "metadata": {},
   "outputs": [
    {
     "data": {
      "text/plain": "<Figure size 432x288 with 1 Axes>",
      "image/png": "[encoded data removed]"
     },
     "metadata": {
      "needs_background": "light"
     },
     "output_type": "display_data"
    }
   ],
   "source": [
    "\n",
    "\n",
    "def generative_clasification_1(data):\n",
    "    mi = 1/len(data) * sum(data)\n",
    "    ro = np.sqrt(1/len(data) * sum(np.square(np.subtract(data,mi))))\n",
    "    return [mi,ro]\n",
    "\n",
    "# pro kontrolu\n",
    "def graph_check(mi,ro, data):\n",
    "    x_axis = np.arange(np.min(data), np.max(data), 0.001)\n",
    "    plt.plot(x_axis, scipy.stats.norm.pdf(x_axis,mi,ro))\n",
    "    plt.hist(data, density=True)\n",
    "    plt.show()\n",
    "\n",
    "returned = generative_clasification_1(train_dataset.pos[:, FOI])\n",
    "graph_check(returned[0], returned[1], train_dataset.pos[:, FOI])"
   ]
  },
  {
   "cell_type": "markdown",
   "metadata": {},
   "source": [
    "Ze získaných parametrů vytvořte `scipy`ovská gaussovská rozložení `scipy.stats.norm`.\n",
    "S využitím jejich metody `.pdf()` vytvořte graf, v němž srovnáte skutečné a modelové rozložení pozitivních a negativních příkladů.\n",
    "Rozsah x-ové osy volte od -0.5 do 1.5 (využijte `np.linspace`) a u volání `plt.hist()` nezapomeňte nastavit `density=True`, aby byl histogram normalizovaný a dal se srovnávat s modelem.\n",
    "\n",
    "**(2+8 řádků, 1 bod)**"
   ]
  },
  {
   "cell_type": "code",
   "execution_count": 31,
   "metadata": {},
   "outputs": [
    {
     "data": {
      "text/plain": "<Figure size 432x288 with 1 Axes>",
      "image/png": "[encoded data removed]"
     },
     "metadata": {
      "needs_background": "light"
     },
     "output_type": "display_data"
    }
   ],
   "source": [
    "def make_graph(mi1, ro1, data1, mi2, ro2, data2):\n",
    "    x_axis = np.arange(np.min(data1), np.max(data1), 0.001)\n",
    "    linsp = np.linspace(-0.5,1.5,100)\n",
    "    plt.plot(linsp, scipy.stats.norm.pdf(linsp,mi1,ro1))\n",
    "    plt.hist(data1, density=True)\n",
    "    x_axis = np.arange(np.min(data2), np.max(data2), 0.001)\n",
    "    plt.plot(linsp, scipy.stats.norm.pdf(linsp,mi2,ro2))\n",
    "    plt.hist(data2, density=True)\n",
    "    plt.show()\n",
    "\n",
    "returned1 = generative_clasification_1(train_dataset.pos[:, FOI])\n",
    "returned2 = generative_clasification_1(train_dataset.neg[:, FOI])\n",
    "make_graph(returned1[0], returned1[1], train_dataset.pos[:, FOI], returned2[0], returned2[1], train_dataset.neg[:, FOI])"
   ]
  },
  {
   "cell_type": "markdown",
   "metadata": {},
   "source": [
    "Naimplementujte binární generativní klasifikátor. \n",
    "Při konstrukci přijímá dvě rozložení poskytující metodu `.pdf()` a odpovídající apriorní pravděpodobnost tříd.\n",
    "Jako všechny klasifikátory v této domácí úloze poskytuje metodu `prob_class_1()`.\n",
    "\n",
    "**(9 řádků, 2 body)**"
   ]
  },
  {
   "cell_type": "code",
   "execution_count": 32,
   "metadata": {},
   "outputs": [
    {
     "name": "stdout",
     "output_type": "stream",
     "text": [
      "Test output\n",
      "[0.94539033 0.52246093 0.84790297 ... 0.83191963 0.95478294 0.87671753]\n"
     ]
    }
   ],
   "source": [
    "class binary_gener_clasif_class:\n",
    "    def __init__(self, layout1, layout2, class_prob1):\n",
    "        self.layout1 = layout1\n",
    "        self.layout2 = layout2\n",
    "        self.class_prob1 = 1- class_prob1\n",
    "        self.class_prob2 = class_prob1\n",
    "    def prob_class_1(self, values):\n",
    "        gaus1 = self.layout1.pdf(values) * self.class_prob1\n",
    "        gaus2 = self.layout2.pdf(values) * self.class_prob2\n",
    "        return gaus1 / (gaus1 + gaus2)\n",
    "\n",
    "my_gaus1 = scipy.stats.norm(returned1[0], returned1[1])\n",
    "my_gaus2 = scipy.stats.norm(returned2[0], returned2[1])\n",
    "\n",
    "bin_gen_clasif_ins = binary_gener_clasif_class(my_gaus1, my_gaus2, 0.5)\n",
    "# bin_gen_ret = bin_gen_clasif_ins.prob_class_1(train_dataset.pos[:, FOI])\n",
    "bin_gen_ret = bin_gen_clasif_ins.prob_class_1(train_dataset.pos[:, FOI])\n"
   ]
  },
  {
   "cell_type": "markdown",
   "metadata": {},
   "source": [
    "Nainstancujte dva generativní klasifikátory: jeden s rovnoměrnými priory a jeden s apriorní pravděpodobností 0.75 pro třídu 0 (negativní příklady).\n",
    "Pomocí funkce `evaluate()` vyhodnoťte jejich úspěšnost na validačních datech.\n",
    "\n",
    "**(2 řádky, 1 bod)**"
   ]
  },
  {
   "cell_type": "code",
   "execution_count": 33,
   "metadata": {},
   "outputs": [
    {
     "name": "stdout",
     "output_type": "stream",
     "text": [
      "flat: 0.809\n",
      "full: 0.8475\n"
     ]
    }
   ],
   "source": [
    "classifier_flat_prior = binary_gener_clasif_class(my_gaus1, my_gaus2, 0.5)\n",
    "classifier_full_prior = binary_gener_clasif_class(my_gaus1, my_gaus2, 0.75)\n",
    "\n",
    "print('flat:', evaluate(classifier_flat_prior, val_dataset.xs[:, FOI], val_dataset.targets))\n",
    "print('full:', evaluate(classifier_full_prior, val_dataset.xs[:, FOI], val_dataset.targets))"
   ]
  },
  {
   "cell_type": "markdown",
   "metadata": {},
   "source": [
    "Vykreslete průběh posteriorní pravděpodobnosti třídy 1 jako funkci příznaku 5 pro oba klasifikátory, opět v rozsahu <-0.5; 1.5>.\n",
    "Do grafu zakreslete i histogramy rozložení trénovacích dat, opět s `density=True` pro zachování dynamického rozsahu.\n",
    "\n",
    "**(8 řádků, 1 bod)**"
   ]
  },
  {
   "cell_type": "code",
   "execution_count": 34,
   "metadata": {},
   "outputs": [
    {
     "data": {
      "text/plain": "<Figure size 432x288 with 1 Axes>",
      "image/png": "[encoded data removed]"
     },
     "metadata": {
      "needs_background": "light"
     },
     "output_type": "display_data"
    }
   ],
   "source": [
    "linsp = np.linspace(-0.5,1.5,len(train_dataset.pos[:, FOI]))\n",
    "bin_gen_ret_1 = classifier_flat_prior.prob_class_1(linsp)\n",
    "bin_gen_ret_2 = classifier_full_prior.prob_class_1(linsp)\n",
    "\n",
    "plt.hist(train_dataset.pos[:, FOI], density=True)\n",
    "plt.hist(train_dataset.neg[:, FOI], density=True, alpha=0.5)\n",
    "plt.legend([\"Pozitivní\", \"Negativní\"])\n",
    "plt.plot(linsp, bin_gen_ret_1)\n",
    "plt.plot(linsp, bin_gen_ret_2)\n",
    "plt.show()\n"
   ]
  },
  {
   "cell_type": "markdown",
   "metadata": {},
   "source": [
    "Interpretujte, přímo v této textové buňce, každou rozhodovací hranici, která je v grafu patrná **(3 věty, 2 body)**:\n",
    "\n",
    "Osa y udává dle klasifikátoru pravděpodobnost, že vzorek (na ose x) patří do třídy 1.\n",
    "Tato pravděpodobnost se řídí dvěma gausovými rozloženími, které jsem vytvořil v předchozích příkladech. Poměrem jejich\n",
    "velikostí v daném bodě.\n",
    "Což je přesně vykresleno v tomto grafu. Červená křivka má pomalejší nárůst a rychlejší klesání kvůli tomu, že klasifikátor\n",
    "má pro třídu 1 menší prioritu.\n",
    "Poté křivky klesají (což jsem zprvu nechápal), to je způsobeno tím, že gaussova křivka pro třídu 0 klesá do 0 v nekonečnu pomaleji,\n",
    "než gaussovka pro třídu 1. Ty se někde v hodnotě mezi 1.2 a 1.4 na ose x protnou a gaussovka pro třídu 0 začíná nabývat větší hodnoty.\n",
    "Proto křivka posteriorní pravděpodobnosti třídy klesne."
   ]
  },
  {
   "cell_type": "markdown",
   "metadata": {},
   "source": [
    "# Diskriminativní klasifikátory\n",
    "V následující části budete přímo modelovat posteriorní pravděpodobnost třídy 1.\n",
    "Modely budou založeny na PyTorchi, ten si prosím nainstalujte.\n",
    "GPU rozhodně nepotřebujete, veškeré výpočty budou velmi rychlé, ne-li bleskové.\n",
    "\n",
    "Do začátku máte poskytnutou třídu klasifikátoru z jednoho příznaku."
   ]
  },
  {
   "cell_type": "code",
   "execution_count": 35,
   "metadata": {},
   "outputs": [],
   "source": [
    "import torch\n",
    "\n",
    "import torch.nn.functional as F\n",
    "\n",
    "class LogisticRegression(torch.nn.Module):\n",
    "    def __init__(self):\n",
    "        super().__init__()\n",
    "        self.w = torch.nn.parameter.Parameter(torch.tensor([1.0]))\n",
    "        self.b = torch.nn.parameter.Parameter(torch.tensor([0.0]))\n",
    "        \n",
    "    def forward(self, x):\n",
    "        return torch.sigmoid(self.w*x + self.b)\n",
    "    \n",
    "    def prob_class_1(self, x):\n",
    "        prob = self(torch.from_numpy(x))\n",
    "        return prob.detach().numpy()"
   ]
  },
  {
   "cell_type": "markdown",
   "metadata": {},
   "source": [
    "Pro trénovaní diskriminativních modelů budete potřebovat minibatche.\n",
    "Implementujte funkci, která je bude z daných vstupních a cílových hodnot vytvářet.\n",
    "Výsledkem musí být možno iterovat, ideálně funkci napište jako generátor (využijte klíčové slovo `yield`).\n",
    "Jednotlivé prvky výstupu budou dvojice PyTorchových `FloatTensor`ů (musíte zkonvertovat z numpy a nastavit typ) -- první prvek vstupní data, druhý očekávané výstupy.\n",
    "Počítejte s tím, že vstup bude `numpy`ovské pole, rozumná implementace využije `np.random.permutation()` a [Advanced Indexing](https://numpy.org/doc/stable/reference/arrays.indexing.html).\n",
    "\n",
    "Připravený kód funkci použije na konstrukci tří minibatchí pro trénování identity, měli byste vidět celkem pět prvků náhodně uspořádaných do dvojic, ovšem s tím, že s sebou budou mít odpovídající výstupy.\n",
    "\n",
    "**(6 řádků, 2 body)**"
   ]
  },
  {
   "cell_type": "code",
   "execution_count": 72,
   "metadata": {},
   "outputs": [
    {
     "name": "stdout",
     "output_type": "stream",
     "text": [
      "x: tensor([1., 5.]), t: tensor([1., 5.])\n",
      "x: tensor([4., 3.]), t: tensor([4., 3.])\n",
      "x: tensor([2.]), t: tensor([2.])\n"
     ]
    }
   ],
   "source": [
    "def batch_provider(xs, targets, batch_size=10):\n",
    "    indexes = []\n",
    "    cycle_len = 0\n",
    "    for i in np.random.permutation(range(len(xs))):\n",
    "        cycle_len += 1\n",
    "        indexes.append(i)\n",
    "        if (len(indexes) == batch_size) or (cycle_len == len(xs)):\n",
    "            left = []\n",
    "            right = []\n",
    "            tmp_indexes = indexes\n",
    "            indexes = []\n",
    "            for j in range(len(tmp_indexes)):\n",
    "                left.append(xs[tmp_indexes[j]])\n",
    "                right.append(targets[tmp_indexes[j]])\n",
    "            yield torch.Tensor(left), torch.Tensor(right)\n",
    "\n",
    "\n",
    "inputs = np.asarray([1.0, 2.0, 3.0, 4.0, 5.0])\n",
    "targets = np.asarray([1.0, 2.0, 3.0, 4.0, 5.0])\n",
    "for x, t in batch_provider(inputs, targets, 2):\n",
    "    print(f'x: {x}, t: {t}')"
   ]
  },
  {
   "cell_type": "markdown",
   "metadata": {},
   "source": [
    "Dalším krokem je implementovat funkci, která model vytvoří a natrénuje.\n",
    "Jejím výstupem bude (1) natrénovaný model, (2) průběh trénovací loss a (3) průběh validační přesnosti.\n",
    "Jako model vracejte ten, který dosáhne nejlepší validační přesnosti.\n",
    "Jako loss použijte binární cross-entropii (`F.binary_cross_entropy()`), akumulujte ji přes minibatche a logujte průměr.\n",
    "Pro výpočet validační přesnosti využijte funkci `evaluate()`.\n",
    "Oba průběhy vracejte jako obyčejné seznamy.\n",
    "\n",
    "V implementaci budete potřebovat dvě zanořené smyčky: jednu pro epochy (průchody přes celý dataset) a uvnitř druhou, která bude iterovat přes jednotlivé minibatche.\n",
    "Na konci každé epochy vyhodnoťte model na validačních datech.\n",
    "K datasetům (trénovacímu a validačnímu) přistupujte bezostyšně jako ke globálním proměnným.\n",
    "\n",
    "**(cca 14 řádků, 3 body)**"
   ]
  },
  {
   "cell_type": "code",
   "execution_count": 37,
   "metadata": {},
   "outputs": [],
   "source": [
    "def train_single_fea_llr(fea_no, nb_epochs, lr, batch_size):\n",
    "    ''' fea_no -- which feature to train on\n",
    "        nb_epochs -- how many times to go through the full training data\n",
    "        lr -- learning rate\n",
    "        batch_size -- size of minibatches\n",
    "    '''\n",
    "    model = LogisticRegression()\n",
    "    best_model = copy.deepcopy(model)\n",
    "    losses = []\n",
    "    accuracies = []\n",
    "    optimizer = torch.optim.SGD(model.parameters(), lr=lr)\n",
    "\n",
    "    for i in range(nb_epochs):\n",
    "        batch_looses = []\n",
    "        for x, t in batch_provider(train_dataset.xs[:, fea_no],\n",
    "                                   train_dataset.targets, batch_size):\n",
    "            optimizer.zero_grad()\n",
    "            lss = F.binary_cross_entropy(model(x),t)\n",
    "            batch_looses.append(lss)\n",
    "            lss.backward()\n",
    "            optimizer.step()\n",
    "        losses.append(torch.mean(torch.stack(batch_looses)))\n",
    "        eval_ret = evaluate(model, val_dataset.xs[:, fea_no], val_dataset.targets)\n",
    "        if all(i < eval_ret for i in accuracies):\n",
    "            best_model = copy.deepcopy(model)\n",
    "        accuracies.append(eval_ret)\n",
    "\n",
    "\n",
    "\n",
    "    return best_model, losses, accuracies\n"
   ]
  },
  {
   "cell_type": "markdown",
   "metadata": {},
   "source": [
    "Funkci zavolejte a natrénujte model.\n",
    "Uveďte zde parametry, které vám dají slušný výsledek.\n",
    "Měli byste dostat přesnost srovnatelnou s generativním klasifikátorem s nastavenými priory.\n",
    "Neměli byste potřebovat víc než 100 epoch.\n",
    "Vykreslete průběh trénovací loss a validační přesnosti, osu x značte v epochách.\n",
    "\n",
    "V druhém grafu vykreslete histogramy trénovacích dat a pravděpodobnost třídy 1 pro x od -0.5 do 1.5, podobně jako výše u generativních klasifikátorů.\n",
    "Při výpočtu výstupů využijte `with torch.no_grad():`.\n",
    "**(1 + 6 + 9 řádků, 1 bod)**"
   ]
  },
  {
   "cell_type": "code",
   "execution_count": 95,
   "metadata": {},
   "outputs": [
    {
     "data": {
      "text/plain": "<Figure size 432x288 with 1 Axes>",
      "image/png": "[encoded data removed]"
     },
     "metadata": {
      "needs_background": "light"
     },
     "output_type": "display_data"
    },
    {
     "data": {
      "text/plain": "<Figure size 432x288 with 1 Axes>",
      "image/png": "[encoded data removed]"
     },
     "metadata": {
      "needs_background": "light"
     },
     "output_type": "display_data"
    }
   ],
   "source": [
    "epoch = 30\n",
    "\n",
    "model, losses, accuracies = train_single_fea_llr(FOI, epoch, 0.001, 64)\n",
    "x = np.linspace(0,epoch,epoch)\n",
    "plt.plot(x, losses)\n",
    "\n",
    "x = np.linspace(0,epoch,epoch)\n",
    "plt.plot(x, accuracies)\n",
    "\n",
    "plt.legend([\"Trenovaci loss\", \"Validacni presnost\"])\n",
    "plt.show()\n",
    "\n",
    "# x = np.linspace(0, len(train_dataset.xs[:, FOI]), len(train_dataset.xs[:, FOI]))\n",
    "linsp = np.linspace(-0.5,1.5,len(train_dataset.pos[:, FOI]))\n",
    "model_ret_1 = model.prob_class_1(linsp)\n",
    "\n",
    "with torch.no_grad():\n",
    "    plt.hist(train_dataset.neg[:, FOI], density=True)\n",
    "    plt.hist(train_dataset.pos[:, FOI], density=True, alpha= 0.5)\n",
    "    plt.legend([\"Pozitivni\", \"Negativni\"])\n",
    "    plt.plot(linsp, model_ret_1)\n",
    "    plt.show()"
   ]
  },
  {
   "cell_type": "markdown",
   "metadata": {},
   "source": [
    "## Všechny vstupní příznaky\n",
    "V posledním cvičení natrénujete logistickou regresi, která využije všech sedm vstupních příznaků.\n",
    "\n",
    "Prvním krokem je naimplementovat příslusný model.\n",
    "Bezostyšně zkopírujte tělo třídy `LogisticRegresion` a upravte ji tak, aby zvládala libovolný počet vstupů, využijte `torch.nn.Linear`.\n",
    "U výstupu metody `.forward()` dejte pozor, aby měl výstup tvar `[N]`; pravděpodobně budete potřebovat `squeeze`.\n",
    "\n",
    "**(9 řádků, 1 bod)**"
   ]
  },
  {
   "cell_type": "code",
   "execution_count": 39,
   "metadata": {},
   "outputs": [],
   "source": [
    "class LogisticRegressionAll(torch.nn.Module):\n",
    "    def __init__(self, in_dim, out_dim):\n",
    "        super().__init__()\n",
    "        self.lin = torch.nn.Linear(in_dim, out_dim)\n",
    "\n",
    "    def forward(self, x):\n",
    "        return np.squeeze(torch.sigmoid(self.lin(x)))\n",
    "\n",
    "    def prob_class_1(self, x):\n",
    "        prob = self(torch.from_numpy(x).float())\n",
    "        return prob.detach().numpy()"
   ]
  },
  {
   "cell_type": "markdown",
   "metadata": {},
   "source": [
    "Podobně jako u jednodimenzionálni regrese implementujte funkci pro trénovaní plné logistické regrese.\n",
    "V ideálním případě vyfaktorujete společnou implementaci, které budete pouze předávat různá trénovací a validační data.\n",
    "\n",
    "Zvídaví mohou zkusit `Adam`a jako optimalizátor namísto obyčejného `SGD`.\n",
    "\n",
    "Funkci zavolejte, natrénujte model.\n",
    "Opět vykreslete průběh trénovací loss a validační přesnosti.\n",
    "Měli byste se s přesností dostat nad 90 %.\n",
    "\n",
    "**(ne víc než cca 30 řádků při kopírování, 1 bod)**\n",
    "evalie"
   ]
  },
  {
   "cell_type": "code",
   "execution_count": 89,
   "metadata": {},
   "outputs": [
    {
     "data": {
      "text/plain": "<Figure size 432x288 with 1 Axes>",
      "image/png": "[encoded data removed]"
     },
     "metadata": {
      "needs_background": "light"
     },
     "output_type": "display_data"
    }
   ],
   "source": [
    "def train_single_fea_llr_all(nb_epochs, lr, batch_size, in_dim, out_dim):\n",
    "    ''' fea_no -- which feature to train on\n",
    "        nb_epochs -- how many times to go through the full training data\n",
    "        lr -- learning rate\n",
    "        batch_size -- size of minibatches\n",
    "    '''\n",
    "    model = LogisticRegressionAll(in_dim,out_dim)\n",
    "    best_model = copy.deepcopy(model)\n",
    "    losses = []\n",
    "    accuracies = []\n",
    "    optimizer = torch.optim.SGD(model.parameters(), lr=lr)\n",
    "\n",
    "    for i in range(nb_epochs):\n",
    "        batch_looses = []\n",
    "        for x, t in batch_provider(train_dataset.xs,\n",
    "                                   train_dataset.targets, batch_size):\n",
    "            optimizer.zero_grad()\n",
    "            lss = F.binary_cross_entropy(model(x),t)\n",
    "            batch_looses.append(lss)\n",
    "            lss.backward()\n",
    "            optimizer.step()\n",
    "        losses.append(torch.mean(torch.stack(batch_looses)))\n",
    "        eval_ret = evaluate(model, val_dataset.xs, val_dataset.targets)\n",
    "        if all(i < eval_ret for i in accuracies):\n",
    "            best_model = copy.deepcopy(model)\n",
    "        accuracies.append(eval_ret)\n",
    "\n",
    "    return best_model, losses, accuracies\n",
    "\n",
    "\n",
    "epoch = 300\n",
    "\n",
    "\n",
    "model_all, losses, accuracies = train_single_fea_llr_all(epoch, 0.001, 64, 7, 1)\n",
    "x = np.linspace(0,epoch,epoch)\n",
    "plt.plot(x, losses)\n",
    "\n",
    "x = np.linspace(0,epoch,epoch)\n",
    "plt.plot(x, accuracies)\n",
    "\n",
    "plt.legend([\"Trenovaci loss\", \"Validacni presnost\"])\n",
    "plt.show()"
   ]
  },
  {
   "cell_type": "markdown",
   "metadata": {},
   "source": [
    "# Závěrem\n",
    "Konečně vyhodnoťte všech pět vytvořených klasifikátorů na testovacích datech. Stačí doplnit jejich názvy a předat jim příznaky, na které jsou zvyklé.\n",
    "\n",
    "**(0.5 bodu)**"
   ]
  },
  {
   "cell_type": "code",
   "execution_count": 96,
   "metadata": {},
   "outputs": [
    {
     "name": "stdout",
     "output_type": "stream",
     "text": [
      "Baseline: 0.75\n",
      "Generative classifier (w/o prior): 0.8\n",
      "Generative classifier (correct): 0.847\n",
      "Logistic regression: 0.847\n",
      "logistic regression all features: 0.9685\n"
     ]
    }
   ],
   "source": [
    "epoch = 300\n",
    "\n",
    "xs_full = test_dataset.xs\n",
    "xs_foi = test_dataset.xs[:, FOI]\n",
    "targets = test_dataset.targets\n",
    "\n",
    "print('Baseline:', evaluate(baseline, xs_foi, targets))\n",
    "print('Generative classifier (w/o prior):', evaluate(classifier_flat_prior, xs_foi, targets))\n",
    "print('Generative classifier (correct):', evaluate(classifier_full_prior, xs_foi, targets))\n",
    "print('Logistic regression:', evaluate(model, xs_foi, targets))\n",
    "print('logistic regression all features:', evaluate(model_all, xs_full, targets))"
   ]
  },
  {
   "cell_type": "markdown",
   "metadata": {},
   "source": [
    "Blahopřejeme ke zvládnutí domácí úlohy! Notebook spusťte načisto (Kernel -> Restart & Run all), vyexportuje jako PDF a odevzdejte pojmenovaný svým loginem.\n",
    "\n",
    "Mimochodem, vstupní data nejsou synteticky generovaná. Nasbírali jsme je z projektu; Vaše klasifikátory v této domácí úloze predikují, že daný hráč vyhraje; takže by se daly použít jako heuristika pro ohodnocování listových uzlů ve stavovém prostoru hry.\n",
    "Pro představu, odhadujete to z pozic pět kol před koncem partie pro daného hráče.\n",
    "Poskytnuté příznaky popisují globální charakteristiky stavu hry jako je například poměr délky hranic předmětného hráče k ostatním hranicím."
   ]
  },
  {
   "cell_type": "code",
   "execution_count": null,
   "metadata": {},
   "outputs": [],
   "source": []
  }
 ],
 "metadata": {
  "kernelspec": {
   "name": "python3",
   "language": "python",
   "display_name": "Python 3"
  },
  "language_info": {
   "codemirror_mode": {
    "name": "ipython",
    "version": 3
   },
   "file_extension": ".py",
   "mimetype": "text/x-python",
   "name": "python",
   "nbconvert_exporter": "python",
   "pygments_lexer": "ipython3",
   "version": "3.8.3"
  }
 },
 "nbformat": 4,
 "nbformat_minor": 4
}